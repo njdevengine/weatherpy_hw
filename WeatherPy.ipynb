{
 "cells": [
  {
   "cell_type": "markdown",
   "metadata": {},
   "source": [
    "# WeatherPy\n",
    "----\n",
    "\n",
    "### Analysis\n",
    "* Weather becomes significantly warmer as one approaches the equator. There appears more of these hot cities in the northern hemisphere, this may be due to the tilt of the earth and climate derived from constant and direct sunlight.\n",
    "* There is no strong relationship between latitude and cloudiness. However, it is interesting to see that a strong band of cities sits at 0, 80, and 100% cloudiness.\n",
    "* There is no strong relationship between latitude and wind speed. Between 0 and 50 Latitude there is a cluster of cities with lower wind speed, this could have something to do with distance from the ocean or some other factor as cities are founded where people need to live.\n",
    "* Humidity does not seem to correlate strongly with distance to equator, it may have something to do with distance to the ocean, or other geographic factors."
   ]
  },
  {
   "cell_type": "code",
   "execution_count": 8,
   "metadata": {
    "scrolled": true
   },
   "outputs": [],
   "source": [
    "import matplotlib.pyplot as plt\n",
    "import pandas as pd\n",
    "import numpy as np\n",
    "import requests\n",
    "import time\n",
    "api_key = \"your key here\"\n",
    "from citipy import citipy\n",
    "output_data_file = \"output_data/cities.csv\"\n",
    "lat_range = (-90, 90)\n",
    "lng_range = (-180, 180)\n",
    "#dont forget to : pip install citipy\n",
    "#mac users may need to: pip install pyopenssl ndg-httpsclient pyasn1\n",
    "#otherwise api calls may refuse connection at some point"
   ]
  },
  {
   "cell_type": "markdown",
   "metadata": {},
   "source": [
    "## Generate Cities List"
   ]
  },
  {
   "cell_type": "code",
   "execution_count": 2,
   "metadata": {},
   "outputs": [
    {
     "data": {
      "text/plain": [
       "619"
      ]
     },
     "execution_count": 2,
     "metadata": {},
     "output_type": "execute_result"
    }
   ],
   "source": [
    "lat_lngs = []\n",
    "cities = []\n",
    "lats = np.random.uniform(low = -90.000, high = 90.000, size = 1500)\n",
    "lngs = np.random.uniform(low = -180.000, high = 180.000, size = 1500)\n",
    "lat_lngs = zip(lats, lngs)\n",
    "for lat_lng in lat_lngs:\n",
    "    city = citipy.nearest_city(lat_lng[0], lat_lng[1]).city_name\n",
    "    if city not in cities:\n",
    "        cities.append(city)\n",
    "len(cities)"
   ]
  },
  {
   "cell_type": "markdown",
   "metadata": {},
   "source": [
    "### Perform API Calls\n",
    "* Perform a weather check on each city using a series of successive API calls.\n",
    "* Include a print log of each city as it'sbeing processed (with the city number and city name).\n"
   ]
  },
  {
   "cell_type": "code",
   "execution_count": null,
   "metadata": {},
   "outputs": [],
   "source": [
    "i = 1\n",
    "citylen = len(cities)\n",
    "city_name = []\n",
    "cloudiness = []\n",
    "country = []\n",
    "date = []\n",
    "humidity = []\n",
    "lat = []\n",
    "lng = []\n",
    "max_temp = []\n",
    "wind_speed = []\n",
    "for city in cities:\n",
    "    if i % 60 == 0:\n",
    "        print(\"api mandated rest (key will get banned otherwise)\")\n",
    "        time.sleep(60)\n",
    "    print(f\"record {i} of {citylen}, city: {city}\")\n",
    "    target_url = ('http://api.openweathermap.org/data/2.5/weather?q='\n",
    "                  '{0}&appid={1}').format(city, api_key)\n",
    "    weather_data = requests.get(target_url).json()  \n",
    "    try:\n",
    "        city_name.append(weather_data['name'])\n",
    "        cloudiness.append(weather_data['clouds']['all'])\n",
    "        country.append(weather_data['sys']['country'])\n",
    "        date.append(weather_data['dt'])\n",
    "        humidity.append(weather_data['main']['humidity'])\n",
    "        lat.append(weather_data[\"coord\"][\"lon\"]) \n",
    "        lng.append(weather_data['coord']['lon'])\n",
    "        max_temp.append(weather_data['main']['temp_max'])\n",
    "        wind_speed.append(weather_data['wind']['speed'])\n",
    "    except:\n",
    "        try:\n",
    "            print(f\"record {i} no city with that name, next record.\")\n",
    "        except:\n",
    "            print(f\"record {i} no city with that name, next record.\")\n",
    "    i = i + 1\n",
    "    # if you don't want to wait 60 seconds you can use the below\n",
    "    #time.sleep(1)"
   ]
  },
  {
   "cell_type": "markdown",
   "metadata": {},
   "source": [
    "### Convert Raw Data to DataFrame\n",
    "* Export the city data into a .csv.\n",
    "* Display the DataFrame"
   ]
  },
  {
   "cell_type": "code",
   "execution_count": null,
   "metadata": {},
   "outputs": [],
   "source": [
    "# create a data frame from cities, lat, and temp\n",
    "weather_dict = {\n",
    "    \"City\": city_name,\n",
    "    \"Cloudiness\": cloudiness,\n",
    "    \"Country\": country,\n",
    "    \"Date\": date,\n",
    "    \"Humidity\": humidity,\n",
    "    \"Lat\": lat,\n",
    "    \"Lng\": lng,\n",
    "    \"Max Temp\": max_temp,\n",
    "    \"Wind Speed\": wind_speed,\n",
    "    }\n",
    "weather_data = pd.DataFrame(weather_dict)\n",
    "weather_data.to_csv(\"weather.csv\", encoding='utf-8')\n",
    "weather_data.count()"
   ]
  },
  {
   "cell_type": "code",
   "execution_count": 13,
   "metadata": {},
   "outputs": [
    {
     "data": {
      "text/html": [
       "<div>\n",
       "<style scoped>\n",
       "    .dataframe tbody tr th:only-of-type {\n",
       "        vertical-align: middle;\n",
       "    }\n",
       "\n",
       "    .dataframe tbody tr th {\n",
       "        vertical-align: top;\n",
       "    }\n",
       "\n",
       "    .dataframe thead th {\n",
       "        text-align: right;\n",
       "    }\n",
       "</style>\n",
       "<table border=\"1\" class=\"dataframe\">\n",
       "  <thead>\n",
       "    <tr style=\"text-align: right;\">\n",
       "      <th></th>\n",
       "      <th>City</th>\n",
       "      <th>Cloudiness</th>\n",
       "      <th>Country</th>\n",
       "      <th>Date</th>\n",
       "      <th>Humidity</th>\n",
       "      <th>Lat</th>\n",
       "      <th>Lng</th>\n",
       "      <th>Max Temp</th>\n",
       "      <th>Wind Speed</th>\n",
       "    </tr>\n",
       "  </thead>\n",
       "  <tbody>\n",
       "    <tr>\n",
       "      <th>0</th>\n",
       "      <td>Ilulissat</td>\n",
       "      <td>75</td>\n",
       "      <td>GL</td>\n",
       "      <td>1552575000</td>\n",
       "      <td>65</td>\n",
       "      <td>-51.10</td>\n",
       "      <td>-51.10</td>\n",
       "      <td>258.150</td>\n",
       "      <td>3.10</td>\n",
       "    </tr>\n",
       "    <tr>\n",
       "      <th>1</th>\n",
       "      <td>Tezu</td>\n",
       "      <td>88</td>\n",
       "      <td>IN</td>\n",
       "      <td>1552578871</td>\n",
       "      <td>88</td>\n",
       "      <td>96.16</td>\n",
       "      <td>96.16</td>\n",
       "      <td>287.796</td>\n",
       "      <td>0.76</td>\n",
       "    </tr>\n",
       "    <tr>\n",
       "      <th>2</th>\n",
       "      <td>Nome</td>\n",
       "      <td>40</td>\n",
       "      <td>US</td>\n",
       "      <td>1552578830</td>\n",
       "      <td>56</td>\n",
       "      <td>-94.42</td>\n",
       "      <td>-94.42</td>\n",
       "      <td>296.480</td>\n",
       "      <td>3.10</td>\n",
       "    </tr>\n",
       "    <tr>\n",
       "      <th>3</th>\n",
       "      <td>Benguela</td>\n",
       "      <td>8</td>\n",
       "      <td>AO</td>\n",
       "      <td>1552578873</td>\n",
       "      <td>88</td>\n",
       "      <td>13.40</td>\n",
       "      <td>13.40</td>\n",
       "      <td>302.396</td>\n",
       "      <td>4.01</td>\n",
       "    </tr>\n",
       "    <tr>\n",
       "      <th>4</th>\n",
       "      <td>Busselton</td>\n",
       "      <td>0</td>\n",
       "      <td>AU</td>\n",
       "      <td>1552578745</td>\n",
       "      <td>42</td>\n",
       "      <td>115.35</td>\n",
       "      <td>115.35</td>\n",
       "      <td>290.370</td>\n",
       "      <td>5.26</td>\n",
       "    </tr>\n",
       "  </tbody>\n",
       "</table>\n",
       "</div>"
      ],
      "text/plain": [
       "        City  Cloudiness Country        Date  Humidity     Lat     Lng  \\\n",
       "0  Ilulissat          75      GL  1552575000        65  -51.10  -51.10   \n",
       "1       Tezu          88      IN  1552578871        88   96.16   96.16   \n",
       "2       Nome          40      US  1552578830        56  -94.42  -94.42   \n",
       "3   Benguela           8      AO  1552578873        88   13.40   13.40   \n",
       "4  Busselton           0      AU  1552578745        42  115.35  115.35   \n",
       "\n",
       "   Max Temp  Wind Speed  \n",
       "0   258.150        3.10  \n",
       "1   287.796        0.76  \n",
       "2   296.480        3.10  \n",
       "3   302.396        4.01  \n",
       "4   290.370        5.26  "
      ]
     },
     "execution_count": 13,
     "metadata": {},
     "output_type": "execute_result"
    }
   ],
   "source": [
    "weather_data.head()"
   ]
  },
  {
   "cell_type": "markdown",
   "metadata": {},
   "source": [
    "### Plotting the Data\n",
    "* Use proper labeling of the plots using plot titles (including date of analysis) and axes labels.\n",
    "* Save the plotted figures as .pngs."
   ]
  },
  {
   "cell_type": "markdown",
   "metadata": {},
   "source": [
    "#### Latitude vs. Temperature Plot"
   ]
  },
  {
   "cell_type": "code",
   "execution_count": 15,
   "metadata": {},
   "outputs": [
    {
     "data": {
      "image/png": "[encoded data removed]",
      "text/plain": [
       "<Figure size 432x288 with 1 Axes>"
      ]
     },
     "metadata": {
      "needs_background": "light"
     },
     "output_type": "display_data"
    }
   ],
   "source": [
    "x_axis = weather_data[\"Lat\"]\n",
    "max_temps = weather_data[\"Max Temp\"]\n",
    "\n",
    "plt.title(\"City Latitude vs Max tempurature\")\n",
    "plt.xlabel(\"Latitude\")\n",
    "plt.ylabel(\"Tempurature\")\n",
    "plt.grid(True)\n",
    "plt.scatter(x_axis, max_temps, marker=\"o\", color=\"blue\")\n",
    "plt.savefig('lat_v_temp.png')\n",
    "plt.show()"
   ]
  },
  {
   "cell_type": "markdown",
   "metadata": {},
   "source": [
    "#### Latitude vs. Humidity Plot"
   ]
  },
  {
   "cell_type": "code",
   "execution_count": 16,
   "metadata": {},
   "outputs": [
    {
     "data": {
      "image/png": "[encoded data removed]",
      "text/plain": [
       "<Figure size 432x288 with 1 Axes>"
      ]
     },
     "metadata": {
      "needs_background": "light"
     },
     "output_type": "display_data"
    }
   ],
   "source": [
    "x_axis = weather_data[\"Lat\"]\n",
    "max_temps = weather_data[\"Humidity\"]\n",
    "\n",
    "plt.title(\"City Latitude vs Max Humidity\")\n",
    "plt.xlabel(\"Latitude\")\n",
    "plt.ylabel(\"Humidity\")\n",
    "plt.grid(True)\n",
    "plt.scatter(x_axis, max_temps, marker=\"o\", color=\"blue\")\n",
    "plt.savefig('lat_v_humidity.png')\n",
    "plt.show()"
   ]
  },
  {
   "cell_type": "markdown",
   "metadata": {},
   "source": [
    "#### Latitude vs. Cloudiness Plot"
   ]
  },
  {
   "cell_type": "code",
   "execution_count": 17,
   "metadata": {},
   "outputs": [
    {
     "data": {
      "image/png": "[encoded data removed]",
      "text/plain": [
       "<Figure size 432x288 with 1 Axes>"
      ]
     },
     "metadata": {
      "needs_background": "light"
     },
     "output_type": "display_data"
    }
   ],
   "source": [
    "x_axis = weather_data[\"Lat\"]\n",
    "max_temps = weather_data[\"Cloudiness\"]\n",
    "\n",
    "plt.title(\"City Latitude vs Max Cloudiness\")\n",
    "plt.xlabel(\"Latitude\")\n",
    "plt.ylabel(\"Cloudiness\")\n",
    "plt.grid(True)\n",
    "plt.scatter(x_axis, max_temps, marker=\"o\", color=\"blue\")\n",
    "plt.savefig('lat_v_cloud.png')\n",
    "plt.show()"
   ]
  },
  {
   "cell_type": "markdown",
   "metadata": {},
   "source": [
    "#### Latitude vs. Wind Speed Plot"
   ]
  },
  {
   "cell_type": "code",
   "execution_count": 18,
   "metadata": {},
   "outputs": [
    {
     "data": {
      "image/png": "[encoded data removed]",
      "text/plain": [
       "<Figure size 432x288 with 1 Axes>"
      ]
     },
     "metadata": {
      "needs_background": "light"
     },
     "output_type": "display_data"
    }
   ],
   "source": [
    "x_axis = weather_data[\"Lat\"]\n",
    "max_temps = weather_data[\"Wind Speed\"]\n",
    "\n",
    "plt.title(\"City Latitude vs Wind Speed\")\n",
    "plt.xlabel(\"Latitude\")\n",
    "plt.ylabel(\"Wind Speed\")\n",
    "plt.grid(True)\n",
    "plt.scatter(x_axis, max_temps, marker = \"o\", color=\"blue\")\n",
    "plt.savefig('lat_v_wind.png')\n",
    "plt.show()"
   ]
  }
 ],
 "metadata": {
  "anaconda-cloud": {},
  "kernelspec": {
   "display_name": "Python 3",
   "language": "python",
   "name": "python3"
  },
  "language_info": {
   "codemirror_mode": {
    "name": "ipython",
    "version": 3
   },
   "file_extension": ".py",
   "mimetype": "text/x-python",
   "name": "python",
   "nbconvert_exporter": "python",
   "pygments_lexer": "ipython3",
   "version": "3.7.2"
  }
 },
 "nbformat": 4,
 "nbformat_minor": 2
}
